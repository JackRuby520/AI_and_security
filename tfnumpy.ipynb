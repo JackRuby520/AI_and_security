{
  "nbformat": 4,
  "nbformat_minor": 0,
  "metadata": {
    "colab": {
      "name": "tfnumpy.ipynb",
      "version": "0.3.2",
      "provenance": [],
      "collapsed_sections": [],
      "include_colab_link": true
    },
    "kernelspec": {
      "name": "python3",
      "display_name": "Python 3"
    }
  },
  "cells": [
    {
      "cell_type": "markdown",
      "metadata": {
        "id": "view-in-github",
        "colab_type": "text"
      },
      "source": [
        "[View in Colaboratory](https://colab.research.google.com/github/JackRuby520/AI_and_security/blob/master/tfnumpy.ipynb)"
      ]
    },
    {
      "metadata": {
        "id": "tBOD-zc0KSJR",
        "colab_type": "code",
        "colab": {
          "base_uri": "https://localhost:8080/",
          "height": 126
        },
        "outputId": "37e5fc98-7ce5-4329-dede-daa75e6b4fe6"
      },
      "cell_type": "code",
      "source": [
        "def matrixMul(A, B):\n",
        "    res = [[0] * len(B[0]) for i in range(len(A))]\n",
        "    for i in range(len(A)):\n",
        "        for j in range(len(B[0])):\n",
        "            for k in range(len(B)):\n",
        "                res[i][j] += A[i][k] * B[k][j]\n",
        "    return res\n",
        "\n",
        "def matrixMul2(A, B):\n",
        "    return [[sum(a * b for a, b in zip(a, b)) for b in zip(*B)] for a in A]\n",
        "\n",
        "a = [[1,2], [3,4], [5,6], [7,8]]\n",
        "b = [[1,2,3,4], [5,6,7,8]]\n",
        "\n",
        "from numpy import dot\n",
        "print(list,dot(a,b))\n",
        "print(list,dot(b,a))"
      ],
      "execution_count": 2,
      "outputs": [
        {
          "output_type": "stream",
          "text": [
            "<class 'list'> [[11 14 17 20]\n",
            " [23 30 37 44]\n",
            " [35 46 57 68]\n",
            " [47 62 77 92]]\n",
            "<class 'list'> [[ 50  60]\n",
            " [114 140]]\n"
          ],
          "name": "stdout"
        }
      ]
    },
    {
      "metadata": {
        "id": "KLB9h-7TK644",
        "colab_type": "text"
      },
      "cell_type": "markdown",
      "source": [
        "TensorFlow矩陣相乘"
      ]
    }
  ]
}